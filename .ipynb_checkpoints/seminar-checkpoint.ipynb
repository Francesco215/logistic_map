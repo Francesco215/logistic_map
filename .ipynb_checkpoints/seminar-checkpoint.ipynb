{
 "cells": [
  {
   "cell_type": "code",
   "execution_count": 109,
   "metadata": {},
   "outputs": [
    {
     "name": "stdout",
     "output_type": "stream",
     "text": [
      "Warning: Cannot change to a different GUI toolkit: notebook. Using widget instead.\n"
     ]
    }
   ],
   "source": [
    "%matplotlib widget\n",
    "%matplotlib notebook\n",
    "import matplotlib.pyplot as plt\n",
    "from ipywidgets import interact, interactive, fixed, interact_manual\n",
    "import ipywidgets as widget\n",
    "import numpy as np\n",
    "from functions import *"
   ]
  },
  {
   "cell_type": "code",
   "execution_count": 132,
   "metadata": {},
   "outputs": [],
   "source": [
    "class logi:\n",
    "    def __init__(self,x):\n",
    "        self.lim=1.2\n",
    "        self.x=np.linspace(0,1,x)\n",
    "        self.nIterMax=100\n",
    "        self.asd=True\n",
    "        \n",
    "    def logistic(self,x,r):\n",
    "        return r*x*(1-x)\n",
    "    \n",
    "    def plotCurve(self,f,r):\n",
    "        y=f(self.x,r)\n",
    "        plt.plot(self.x,y)\n",
    "        plt.xlim(0,self.lim)\n",
    "        plt.ylim(0,self.lim)\n",
    "        plt.xlabel(r'$x_n$')\n",
    "        plt.ylabel(r'$x_{n+1}$')\n",
    "    \n",
    "    def plotCobwebs(self,f,r,x,Length):\n",
    "        vertex=[[x],[x]]\n",
    "        for i in range(self.nIterMax):  \n",
    "            xp1=f(x,r)\n",
    "            if Length/np.abs(xp1-x)<1:\n",
    "                vertex[0]+=[x]\n",
    "                vertex[1]+=[x+Length*np.sign(xp1-x)]\n",
    "                break \n",
    "            if Length/np.abs(xp1-x)<2:\n",
    "                vertex[0]+=[x,x+Length*np.sign(xp1-x)/2]\n",
    "                vertex[1]+=[xp1,xp1]\n",
    "                break\n",
    "            \n",
    "            vertex[0]+=[x,xp1]\n",
    "            vertex[1]+=[xp1,xp1]\n",
    "            Length-=2*np.abs(x-xp1)\n",
    "            x=xp1\n",
    "        plt.plot(*vertex)\n",
    "        print(vertex[0][-1],vertex[1][-1])\n",
    "    \n",
    "    def plotBisect(self):\n",
    "        plt.plot([0,self.lim],np.array([0,self.lim]))\n",
    "            \n",
    "    def show(self,r,Length):\n",
    "        plt.close()\n",
    "        self.plotCurve(f=self.logistic,r=r)\n",
    "        self.plotBisect()\n",
    "        self.plotCobwebs(f=self.logistic,r=r,x=0.5,Length=Length)\n",
    "        "
   ]
  },
  {
   "cell_type": "code",
   "execution_count": 133,
   "metadata": {},
   "outputs": [
    {
     "data": {
      "application/vnd.jupyter.widget-view+json": {
       "model_id": "cfce7adaccf145e492929b59e4908fea",
       "version_major": 2,
       "version_minor": 0
      },
      "text/plain": [
       "Canvas(toolbar=Toolbar(toolitems=[('Home', 'Reset original view', 'home', 'home'), ('Back', 'Back to previous …"
      ]
     },
     "metadata": {},
     "output_type": "display_data"
    },
    {
     "name": "stdout",
     "output_type": "stream",
     "text": [
      "0.29709260420776445 0.29709260420776445\n"
     ]
    }
   ],
   "source": [
    "x=30\n",
    "f=logi(x)\n",
    "f.show(3.98,100)\n"
   ]
  },
  {
   "cell_type": "code",
   "execution_count": 134,
   "metadata": {},
   "outputs": [
    {
     "data": {
      "application/vnd.jupyter.widget-view+json": {
       "model_id": "3aa7128a6c1840b797b01ea4a7270796",
       "version_major": 2,
       "version_minor": 0
      },
      "text/plain": [
       "interactive(children=(FloatLogSlider(value=1.0, description='r', max=1.0, min=-1.0), FloatLogSlider(value=0.01…"
      ]
     },
     "metadata": {},
     "output_type": "display_data"
    },
    {
     "data": {
      "text/plain": [
       "<function ipywidgets.widgets.interaction._InteractFactory.__call__.<locals>.<lambda>(*args, **kwargs)>"
      ]
     },
     "execution_count": 134,
     "metadata": {},
     "output_type": "execute_result"
    }
   ],
   "source": [
    "x=30\n",
    "f=logi(x)\n",
    "r=widget.FloatLogSlider(value=1,min=-1,max=1)\n",
    "Length=widget.FloatLogSlider(value=0,min=-2,max=3)\n",
    "interact(f.show,r=r,Length=Length)"
   ]
  },
  {
   "cell_type": "code",
   "execution_count": 119,
   "metadata": {},
   "outputs": [
    {
     "data": {
      "application/vnd.jupyter.widget-view+json": {
       "model_id": "ce76874b52d248e0b585575ec1b892ee",
       "version_major": 2,
       "version_minor": 0
      },
      "text/plain": [
       "Canvas(toolbar=Toolbar(toolitems=[('Home', 'Reset original view', 'home', 'home'), ('Back', 'Back to previous …"
      ]
     },
     "metadata": {},
     "output_type": "display_data"
    }
   ],
   "source": [
    "plt.clos\n",
    "plt.plot([1,2,3],[4,5,6])\n",
    "plt.show()"
   ]
  },
  {
   "cell_type": "code",
   "execution_count": null,
   "metadata": {},
   "outputs": [],
   "source": []
  }
 ],
 "metadata": {
  "kernelspec": {
   "display_name": "Python 3",
   "language": "python",
   "name": "python3"
  },
  "language_info": {
   "codemirror_mode": {
    "name": "ipython",
    "version": 3
   },
   "file_extension": ".py",
   "mimetype": "text/x-python",
   "name": "python",
   "nbconvert_exporter": "python",
   "pygments_lexer": "ipython3",
   "version": "3.7.4"
  }
 },
 "nbformat": 4,
 "nbformat_minor": 4
}
